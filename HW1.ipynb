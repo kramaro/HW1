{
  "nbformat": 4,
  "nbformat_minor": 0,
  "metadata": {
    "colab": {
      "name": "HW1.ipynb",
      "provenance": []
    },
    "kernelspec": {
      "name": "python3",
      "display_name": "Python 3"
    },
    "language_info": {
      "name": "python"
    }
  },
  "cells": [
    {
      "cell_type": "code",
      "execution_count": null,
      "metadata": {
        "colab": {
          "base_uri": "https://localhost:8080/"
        },
        "id": "AhMPHiYGbQGz",
        "outputId": "57fea40a-6737-4869-c1dc-bacb68d3dbfb"
      },
      "outputs": [
        {
          "output_type": "stream",
          "name": "stdout",
          "text": [
            "Mounted at /content/drive\n"
          ]
        }
      ],
      "source": [
        "from google.colab import drive\n",
        "drive.mount('/content/drive')"
      ]
    },
    {
      "cell_type": "code",
      "source": [
        "import pandas as pd\n",
        "df = pd.read_csv('/content/drive/MyDrive/CSC302/DATA/olympic_medals.csv', index_col=0)"
      ],
      "metadata": {
        "id": "op1gYreKcbBp"
      },
      "execution_count": null,
      "outputs": []
    },
    {
      "cell_type": "markdown",
      "source": [
        "2.\n",
        "a."
      ],
      "metadata": {
        "id": "UUWNiC1Ug35y"
      }
    },
    {
      "cell_type": "code",
      "source": [
        "df.info()"
      ],
      "metadata": {
        "colab": {
          "base_uri": "https://localhost:8080/"
        },
        "id": "2W9WOI7EdaF0",
        "outputId": "e4772353-264b-41e9-8b21-8865c76b9ceb"
      },
      "execution_count": null,
      "outputs": [
        {
          "output_type": "stream",
          "name": "stdout",
          "text": [
            "<class 'pandas.core.frame.DataFrame'>\n",
            "Index: 2394 entries, M to W\n",
            "Data columns (total 7 columns):\n",
            " #   Column       Non-Null Count  Dtype \n",
            "---  ------       --------------  ----- \n",
            " 0   Event        2394 non-null   object\n",
            " 1   Location     2394 non-null   object\n",
            " 2   Year         2394 non-null   int64 \n",
            " 3   Medal        2394 non-null   object\n",
            " 4   Name         2164 non-null   object\n",
            " 5   Nationality  2394 non-null   object\n",
            " 6   Result       2394 non-null   object\n",
            "dtypes: int64(1), object(6)\n",
            "memory usage: 149.6+ KB\n"
          ]
        }
      ]
    },
    {
      "cell_type": "markdown",
      "source": [
        "b."
      ],
      "metadata": {
        "id": "C2oZl0mZg7j8"
      }
    },
    {
      "cell_type": "code",
      "source": [
        "df.dtypes"
      ],
      "metadata": {
        "colab": {
          "base_uri": "https://localhost:8080/"
        },
        "id": "V12FIGtwdwrr",
        "outputId": "1324df7b-ab63-4788-e666-808a1e351d20"
      },
      "execution_count": null,
      "outputs": [
        {
          "output_type": "execute_result",
          "data": {
            "text/plain": [
              "Event          object\n",
              "Location       object\n",
              "Year            int64\n",
              "Medal          object\n",
              "Name           object\n",
              "Nationality    object\n",
              "Result         object\n",
              "dtype: object"
            ]
          },
          "metadata": {},
          "execution_count": 61
        }
      ]
    },
    {
      "cell_type": "markdown",
      "source": [
        "c."
      ],
      "metadata": {
        "id": "JoL54Z8Yg9C_"
      }
    },
    {
      "cell_type": "code",
      "source": [
        "len(df[\"Location\"].unique())"
      ],
      "metadata": {
        "colab": {
          "base_uri": "https://localhost:8080/"
        },
        "id": "bz4BScPqe8B2",
        "outputId": "05651a28-8764-42d3-fcda-7fc797fa686b"
      },
      "execution_count": null,
      "outputs": [
        {
          "output_type": "execute_result",
          "data": {
            "text/plain": [
              "23"
            ]
          },
          "metadata": {},
          "execution_count": 62
        }
      ]
    },
    {
      "cell_type": "markdown",
      "source": [
        "d."
      ],
      "metadata": {
        "id": "IE1KhAwBg-Ho"
      }
    },
    {
      "cell_type": "code",
      "source": [
        "df.loc[df[\"Nationality\"] == \"USA\", \"Medal\"].count()"
      ],
      "metadata": {
        "colab": {
          "base_uri": "https://localhost:8080/"
        },
        "id": "D1Dvy3P_gxkZ",
        "outputId": "02756a75-229a-4519-91ff-4e1126c984fa"
      },
      "execution_count": null,
      "outputs": [
        {
          "output_type": "execute_result",
          "data": {
            "text/plain": [
              "638"
            ]
          },
          "metadata": {},
          "execution_count": 63
        }
      ]
    },
    {
      "cell_type": "markdown",
      "source": [
        "e."
      ],
      "metadata": {
        "id": "eXC39vpakOZ3"
      }
    },
    {
      "cell_type": "code",
      "source": [
        "df.groupby(by=[\"Nationality\", \"Medal\"])[\"Medal\"].count()"
      ],
      "metadata": {
        "colab": {
          "base_uri": "https://localhost:8080/"
        },
        "id": "DdUqkoAnkRZu",
        "outputId": "9b259de6-7eaf-44ba-902f-75d5dcc68630"
      },
      "execution_count": null,
      "outputs": [
        {
          "output_type": "execute_result",
          "data": {
            "text/plain": [
              "Nationality  Medal\n",
              "ALG          B          2\n",
              "             G          4\n",
              "             S          3\n",
              "ARG          G          2\n",
              "             S          2\n",
              "                     ... \n",
              "USA          S        206\n",
              "VEN          B          1\n",
              "             S          1\n",
              "YUG          S          1\n",
              "ZAM          S          1\n",
              "Name: Medal, Length: 218, dtype: int64"
            ]
          },
          "metadata": {},
          "execution_count": 4
        }
      ]
    },
    {
      "cell_type": "markdown",
      "source": [
        "3."
      ],
      "metadata": {
        "id": "DEljKBuSV2xK"
      }
    },
    {
      "cell_type": "code",
      "source": [
        "import pandas as pd\n",
        "cod = pd.read_csv('/content/drive/MyDrive/CSC302/DATA/causes_of_death.csv', index_col=0)"
      ],
      "metadata": {
        "id": "GSG_Sc1EWCJO"
      },
      "execution_count": null,
      "outputs": []
    },
    {
      "cell_type": "markdown",
      "source": [
        "a."
      ],
      "metadata": {
        "id": "JbAaU-NWWe-2"
      }
    },
    {
      "cell_type": "code",
      "source": [
        "cod.shape"
      ],
      "metadata": {
        "colab": {
          "base_uri": "https://localhost:8080/"
        },
        "id": "fl91bUzqWeaa",
        "outputId": "1ff6e124-0aaa-4fb9-dccc-0ebacdd23ae9"
      },
      "execution_count": null,
      "outputs": [
        {
          "output_type": "execute_result",
          "data": {
            "text/plain": [
              "(4115, 10)"
            ]
          },
          "metadata": {},
          "execution_count": 57
        }
      ]
    },
    {
      "cell_type": "markdown",
      "source": [
        "b."
      ],
      "metadata": {
        "id": "ufmgADX6Wxx1"
      }
    },
    {
      "cell_type": "code",
      "source": [
        "cod['Deaths'].mean()"
      ],
      "metadata": {
        "colab": {
          "base_uri": "https://localhost:8080/"
        },
        "id": "feBIxT9hWyef",
        "outputId": "50034579-66da-45a9-f3bd-55bb51a81caa"
      },
      "execution_count": null,
      "outputs": [
        {
          "output_type": "execute_result",
          "data": {
            "text/plain": [
              "10914.44957472661"
            ]
          },
          "metadata": {},
          "execution_count": 58
        }
      ]
    },
    {
      "cell_type": "markdown",
      "source": [
        "c."
      ],
      "metadata": {
        "id": "5qlQiOM7YcUQ"
      }
    },
    {
      "cell_type": "code",
      "source": [
        "cod.groupby(by=[\"State\"])[\"Deaths\"].sum()"
      ],
      "metadata": {
        "colab": {
          "base_uri": "https://localhost:8080/"
        },
        "id": "GDp8S4h3YdJ6",
        "outputId": "968fc884-43de-46ca-a7fa-68a4939b1021"
      },
      "execution_count": null,
      "outputs": [
        {
          "output_type": "execute_result",
          "data": {
            "text/plain": [
              "State\n",
              "Alabama                  860780\n",
              "Alaska                    63334\n",
              "Arizona                  838094\n",
              "Arkansas                 522914\n",
              "California              4307061\n",
              "Colorado                 561283\n",
              "Connecticut              531290\n",
              "Delaware                 135933\n",
              "District of Columbia      94073\n",
              "Florida                 3131111\n",
              "Georgia                 1259017\n",
              "Hawaii                   172244\n",
              "Idaho                    200077\n",
              "Illinois                1872171\n",
              "Indiana                 1031634\n",
              "Iowa                     507247\n",
              "Kansas                   448828\n",
              "Kentucky                 752585\n",
              "Louisiana                755914\n",
              "Maine                    231756\n",
              "Maryland                 800510\n",
              "Massachusetts            987031\n",
              "Michigan                1599942\n",
              "Minnesota                702284\n",
              "Mississippi              526127\n",
              "Missouri                1008288\n",
              "Montana                  158429\n",
              "Nebraska                 277962\n",
              "Nevada                   345245\n",
              "New Hampshire            187917\n",
              "New Jersey              1291554\n",
              "New Mexico               281598\n",
              "New York                2741575\n",
              "North Carolina          1399009\n",
              "North Dakota             107281\n",
              "Ohio                    1987276\n",
              "Oklahoma                 656535\n",
              "Oregon                   575952\n",
              "Pennsylvania            2313855\n",
              "Rhode Island             176266\n",
              "South Carolina           732571\n",
              "South Dakota             128599\n",
              "Tennessee               1066727\n",
              "Texas                   2969214\n",
              "Utah                     260479\n",
              "Vermont                   95300\n",
              "Virginia                1071163\n",
              "Washington               865686\n",
              "West Virginia            386224\n",
              "Wisconsin                857629\n",
              "Wyoming                   77386\n",
              "Name: Deaths, dtype: int64"
            ]
          },
          "metadata": {},
          "execution_count": 69
        }
      ]
    },
    {
      "cell_type": "markdown",
      "source": [
        "d."
      ],
      "metadata": {
        "id": "_wZA1ImTazJO"
      }
    },
    {
      "cell_type": "code",
      "source": [
        "cod.groupby(by=[\"State\"])[\"Deaths\"].mean()"
      ],
      "metadata": {
        "colab": {
          "base_uri": "https://localhost:8080/"
        },
        "id": "VZNMr-pza0XZ",
        "outputId": "ff1cffc4-9687-4a49-e099-e17d4ca2c749"
      },
      "execution_count": null,
      "outputs": [
        {
          "output_type": "execute_result",
          "data": {
            "text/plain": [
              "State\n",
              "Alabama                 10626.913580\n",
              "Alaska                    772.365854\n",
              "Arizona                  9109.717391\n",
              "Arkansas                 6455.728395\n",
              "California              45819.797872\n",
              "Colorado                 6378.215909\n",
              "Connecticut              6559.135802\n",
              "Delaware                 1970.043478\n",
              "District of Columbia     1447.276923\n",
              "Florida                 34790.122222\n",
              "Georgia                 14639.732558\n",
              "Hawaii                   2266.368421\n",
              "Idaho                    2778.847222\n",
              "Illinois                21519.206897\n",
              "Indiana                 12895.425000\n",
              "Iowa                     6185.939024\n",
              "Kansas                   5407.566265\n",
              "Kentucky                 9902.434211\n",
              "Louisiana                9107.397590\n",
              "Maine                    3310.800000\n",
              "Maryland                 9201.264368\n",
              "Massachusetts           12185.567901\n",
              "Michigan                17976.876404\n",
              "Minnesota                7980.500000\n",
              "Mississippi              6117.755814\n",
              "Missouri                11862.211765\n",
              "Montana                  2200.402778\n",
              "Nebraska                 3474.525000\n",
              "Nevada                   4014.476744\n",
              "New Hampshire            3030.919355\n",
              "New Jersey              15375.642857\n",
              "New Mexico               3236.758621\n",
              "New York                29799.728261\n",
              "North Carolina          15373.725275\n",
              "North Dakota             1650.476923\n",
              "Ohio                    24534.271605\n",
              "Oklahoma                 7376.797753\n",
              "Oregon                   6544.909091\n",
              "Pennsylvania            27221.823529\n",
              "Rhode Island             2448.138889\n",
              "South Carolina           9044.086420\n",
              "South Dakota             1863.753623\n",
              "Tennessee               13169.469136\n",
              "Texas                   32991.266667\n",
              "Utah                     3028.825581\n",
              "Vermont                  1944.897959\n",
              "Virginia                12601.917647\n",
              "Washington               9726.808989\n",
              "West Virginia            6229.419355\n",
              "Wisconsin                9745.784091\n",
              "Wyoming                  1155.014925\n",
              "Name: Deaths, dtype: float64"
            ]
          },
          "metadata": {},
          "execution_count": 70
        }
      ]
    },
    {
      "cell_type": "markdown",
      "source": [
        "e."
      ],
      "metadata": {
        "id": "OoVlxmDta-zW"
      }
    },
    {
      "cell_type": "code",
      "source": [
        "cod.groupby(by=[\"State\", \"Gender\"])[\"Deaths\"].sum()"
      ],
      "metadata": {
        "colab": {
          "base_uri": "https://localhost:8080/"
        },
        "id": "Fjf9xBSqa9_o",
        "outputId": "b9902b3c-6197-40d0-d523-5798e1c010bb"
      },
      "execution_count": null,
      "outputs": [
        {
          "output_type": "execute_result",
          "data": {
            "text/plain": [
              "State          Gender\n",
              "Alabama        Female    430133\n",
              "               Male      430647\n",
              "Alaska         Female     27199\n",
              "               Male       36135\n",
              "Arizona        Female    396028\n",
              "                          ...  \n",
              "West Virginia  Male      192560\n",
              "Wisconsin      Female    436397\n",
              "               Male      421232\n",
              "Wyoming        Female     37153\n",
              "               Male       40233\n",
              "Name: Deaths, Length: 102, dtype: int64"
            ]
          },
          "metadata": {},
          "execution_count": 71
        }
      ]
    },
    {
      "cell_type": "markdown",
      "source": [
        "f."
      ],
      "metadata": {
        "id": "iv1GIG4JdJxg"
      }
    },
    {
      "cell_type": "code",
      "source": [
        "cod.dropna(inplace=True)\n",
        "cod.head()"
      ],
      "metadata": {
        "colab": {
          "base_uri": "https://localhost:8080/",
          "height": 238
        },
        "id": "hbcEkYY2dLTk",
        "outputId": "df476a84-e158-4763-cde0-9ce328955386"
      },
      "execution_count": null,
      "outputs": [
        {
          "output_type": "execute_result",
          "data": {
            "text/html": [
              "\n",
              "  <div id=\"df-3169b33a-655b-4600-924a-f97033be73b7\">\n",
              "    <div class=\"colab-df-container\">\n",
              "      <div>\n",
              "<style scoped>\n",
              "    .dataframe tbody tr th:only-of-type {\n",
              "        vertical-align: middle;\n",
              "    }\n",
              "\n",
              "    .dataframe tbody tr th {\n",
              "        vertical-align: top;\n",
              "    }\n",
              "\n",
              "    .dataframe thead th {\n",
              "        text-align: right;\n",
              "    }\n",
              "</style>\n",
              "<table border=\"1\" class=\"dataframe\">\n",
              "  <thead>\n",
              "    <tr style=\"text-align: right;\">\n",
              "      <th></th>\n",
              "      <th>State Code</th>\n",
              "      <th>Ten-Year Age Groups</th>\n",
              "      <th>Ten-Year Age Groups Code</th>\n",
              "      <th>Gender</th>\n",
              "      <th>Gender Code</th>\n",
              "      <th>Race</th>\n",
              "      <th>Race Code</th>\n",
              "      <th>Deaths</th>\n",
              "      <th>Population</th>\n",
              "      <th>Crude Rate</th>\n",
              "    </tr>\n",
              "    <tr>\n",
              "      <th>State</th>\n",
              "      <th></th>\n",
              "      <th></th>\n",
              "      <th></th>\n",
              "      <th></th>\n",
              "      <th></th>\n",
              "      <th></th>\n",
              "      <th></th>\n",
              "      <th></th>\n",
              "      <th></th>\n",
              "      <th></th>\n",
              "    </tr>\n",
              "  </thead>\n",
              "  <tbody>\n",
              "    <tr>\n",
              "      <th>Alabama</th>\n",
              "      <td>1</td>\n",
              "      <td>&lt; 1 year</td>\n",
              "      <td>1</td>\n",
              "      <td>Female</td>\n",
              "      <td>F</td>\n",
              "      <td>Asian or Pacific Islander</td>\n",
              "      <td>A-PI</td>\n",
              "      <td>24</td>\n",
              "      <td>7443.0</td>\n",
              "      <td>322.5</td>\n",
              "    </tr>\n",
              "    <tr>\n",
              "      <th>Alabama</th>\n",
              "      <td>1</td>\n",
              "      <td>&lt; 1 year</td>\n",
              "      <td>1</td>\n",
              "      <td>Female</td>\n",
              "      <td>F</td>\n",
              "      <td>Black or African American</td>\n",
              "      <td>2054-5</td>\n",
              "      <td>2093</td>\n",
              "      <td>169339.0</td>\n",
              "      <td>1236.0</td>\n",
              "    </tr>\n",
              "    <tr>\n",
              "      <th>Alabama</th>\n",
              "      <td>1</td>\n",
              "      <td>&lt; 1 year</td>\n",
              "      <td>1</td>\n",
              "      <td>Female</td>\n",
              "      <td>F</td>\n",
              "      <td>White</td>\n",
              "      <td>2106-3</td>\n",
              "      <td>2144</td>\n",
              "      <td>347921.0</td>\n",
              "      <td>616.2</td>\n",
              "    </tr>\n",
              "    <tr>\n",
              "      <th>Alabama</th>\n",
              "      <td>1</td>\n",
              "      <td>&lt; 1 year</td>\n",
              "      <td>1</td>\n",
              "      <td>Male</td>\n",
              "      <td>M</td>\n",
              "      <td>Asian or Pacific Islander</td>\n",
              "      <td>A-PI</td>\n",
              "      <td>33</td>\n",
              "      <td>7366.0</td>\n",
              "      <td>448.0</td>\n",
              "    </tr>\n",
              "    <tr>\n",
              "      <th>Alabama</th>\n",
              "      <td>1</td>\n",
              "      <td>&lt; 1 year</td>\n",
              "      <td>1</td>\n",
              "      <td>Male</td>\n",
              "      <td>M</td>\n",
              "      <td>Black or African American</td>\n",
              "      <td>2054-5</td>\n",
              "      <td>2732</td>\n",
              "      <td>173241.0</td>\n",
              "      <td>1577.0</td>\n",
              "    </tr>\n",
              "  </tbody>\n",
              "</table>\n",
              "</div>\n",
              "      <button class=\"colab-df-convert\" onclick=\"convertToInteractive('df-3169b33a-655b-4600-924a-f97033be73b7')\"\n",
              "              title=\"Convert this dataframe to an interactive table.\"\n",
              "              style=\"display:none;\">\n",
              "        \n",
              "  <svg xmlns=\"http://www.w3.org/2000/svg\" height=\"24px\"viewBox=\"0 0 24 24\"\n",
              "       width=\"24px\">\n",
              "    <path d=\"M0 0h24v24H0V0z\" fill=\"none\"/>\n",
              "    <path d=\"M18.56 5.44l.94 2.06.94-2.06 2.06-.94-2.06-.94-.94-2.06-.94 2.06-2.06.94zm-11 1L8.5 8.5l.94-2.06 2.06-.94-2.06-.94L8.5 2.5l-.94 2.06-2.06.94zm10 10l.94 2.06.94-2.06 2.06-.94-2.06-.94-.94-2.06-.94 2.06-2.06.94z\"/><path d=\"M17.41 7.96l-1.37-1.37c-.4-.4-.92-.59-1.43-.59-.52 0-1.04.2-1.43.59L10.3 9.45l-7.72 7.72c-.78.78-.78 2.05 0 2.83L4 21.41c.39.39.9.59 1.41.59.51 0 1.02-.2 1.41-.59l7.78-7.78 2.81-2.81c.8-.78.8-2.07 0-2.86zM5.41 20L4 18.59l7.72-7.72 1.47 1.35L5.41 20z\"/>\n",
              "  </svg>\n",
              "      </button>\n",
              "      \n",
              "  <style>\n",
              "    .colab-df-container {\n",
              "      display:flex;\n",
              "      flex-wrap:wrap;\n",
              "      gap: 12px;\n",
              "    }\n",
              "\n",
              "    .colab-df-convert {\n",
              "      background-color: #E8F0FE;\n",
              "      border: none;\n",
              "      border-radius: 50%;\n",
              "      cursor: pointer;\n",
              "      display: none;\n",
              "      fill: #1967D2;\n",
              "      height: 32px;\n",
              "      padding: 0 0 0 0;\n",
              "      width: 32px;\n",
              "    }\n",
              "\n",
              "    .colab-df-convert:hover {\n",
              "      background-color: #E2EBFA;\n",
              "      box-shadow: 0px 1px 2px rgba(60, 64, 67, 0.3), 0px 1px 3px 1px rgba(60, 64, 67, 0.15);\n",
              "      fill: #174EA6;\n",
              "    }\n",
              "\n",
              "    [theme=dark] .colab-df-convert {\n",
              "      background-color: #3B4455;\n",
              "      fill: #D2E3FC;\n",
              "    }\n",
              "\n",
              "    [theme=dark] .colab-df-convert:hover {\n",
              "      background-color: #434B5C;\n",
              "      box-shadow: 0px 1px 3px 1px rgba(0, 0, 0, 0.15);\n",
              "      filter: drop-shadow(0px 1px 2px rgba(0, 0, 0, 0.3));\n",
              "      fill: #FFFFFF;\n",
              "    }\n",
              "  </style>\n",
              "\n",
              "      <script>\n",
              "        const buttonEl =\n",
              "          document.querySelector('#df-3169b33a-655b-4600-924a-f97033be73b7 button.colab-df-convert');\n",
              "        buttonEl.style.display =\n",
              "          google.colab.kernel.accessAllowed ? 'block' : 'none';\n",
              "\n",
              "        async function convertToInteractive(key) {\n",
              "          const element = document.querySelector('#df-3169b33a-655b-4600-924a-f97033be73b7');\n",
              "          const dataTable =\n",
              "            await google.colab.kernel.invokeFunction('convertToInteractive',\n",
              "                                                     [key], {});\n",
              "          if (!dataTable) return;\n",
              "\n",
              "          const docLinkHtml = 'Like what you see? Visit the ' +\n",
              "            '<a target=\"_blank\" href=https://colab.research.google.com/notebooks/data_table.ipynb>data table notebook</a>'\n",
              "            + ' to learn more about interactive tables.';\n",
              "          element.innerHTML = '';\n",
              "          dataTable['output_type'] = 'display_data';\n",
              "          await google.colab.output.renderOutput(dataTable, element);\n",
              "          const docLink = document.createElement('div');\n",
              "          docLink.innerHTML = docLinkHtml;\n",
              "          element.appendChild(docLink);\n",
              "        }\n",
              "      </script>\n",
              "    </div>\n",
              "  </div>\n",
              "  "
            ],
            "text/plain": [
              "         State Code Ten-Year Age Groups  ... Population Crude Rate\n",
              "State                                    ...                      \n",
              "Alabama           1            < 1 year  ...     7443.0      322.5\n",
              "Alabama           1            < 1 year  ...   169339.0     1236.0\n",
              "Alabama           1            < 1 year  ...   347921.0      616.2\n",
              "Alabama           1            < 1 year  ...     7366.0      448.0\n",
              "Alabama           1            < 1 year  ...   173241.0     1577.0\n",
              "\n",
              "[5 rows x 10 columns]"
            ]
          },
          "metadata": {},
          "execution_count": 81
        }
      ]
    },
    {
      "cell_type": "markdown",
      "source": [
        "g."
      ],
      "metadata": {
        "id": "7tmqcEOAfcm0"
      }
    },
    {
      "cell_type": "code",
      "source": [
        "cod['ratio'] = cod['Deaths']/cod['Population']\n",
        "cod.head()"
      ],
      "metadata": {
        "colab": {
          "base_uri": "https://localhost:8080/",
          "height": 238
        },
        "id": "-nYE21jTfdhz",
        "outputId": "6ca74f70-f1fa-4a6f-b0db-105339e621bf"
      },
      "execution_count": null,
      "outputs": [
        {
          "output_type": "execute_result",
          "data": {
            "text/html": [
              "\n",
              "  <div id=\"df-7e8dfa91-7df9-4249-86c1-8b9cbfff051f\">\n",
              "    <div class=\"colab-df-container\">\n",
              "      <div>\n",
              "<style scoped>\n",
              "    .dataframe tbody tr th:only-of-type {\n",
              "        vertical-align: middle;\n",
              "    }\n",
              "\n",
              "    .dataframe tbody tr th {\n",
              "        vertical-align: top;\n",
              "    }\n",
              "\n",
              "    .dataframe thead th {\n",
              "        text-align: right;\n",
              "    }\n",
              "</style>\n",
              "<table border=\"1\" class=\"dataframe\">\n",
              "  <thead>\n",
              "    <tr style=\"text-align: right;\">\n",
              "      <th></th>\n",
              "      <th>State Code</th>\n",
              "      <th>Ten-Year Age Groups</th>\n",
              "      <th>Ten-Year Age Groups Code</th>\n",
              "      <th>Gender</th>\n",
              "      <th>Gender Code</th>\n",
              "      <th>Race</th>\n",
              "      <th>Race Code</th>\n",
              "      <th>Deaths</th>\n",
              "      <th>Population</th>\n",
              "      <th>Crude Rate</th>\n",
              "      <th>ratio</th>\n",
              "    </tr>\n",
              "    <tr>\n",
              "      <th>State</th>\n",
              "      <th></th>\n",
              "      <th></th>\n",
              "      <th></th>\n",
              "      <th></th>\n",
              "      <th></th>\n",
              "      <th></th>\n",
              "      <th></th>\n",
              "      <th></th>\n",
              "      <th></th>\n",
              "      <th></th>\n",
              "      <th></th>\n",
              "    </tr>\n",
              "  </thead>\n",
              "  <tbody>\n",
              "    <tr>\n",
              "      <th>Alabama</th>\n",
              "      <td>1</td>\n",
              "      <td>&lt; 1 year</td>\n",
              "      <td>1</td>\n",
              "      <td>Female</td>\n",
              "      <td>F</td>\n",
              "      <td>Asian or Pacific Islander</td>\n",
              "      <td>A-PI</td>\n",
              "      <td>24</td>\n",
              "      <td>7443.0</td>\n",
              "      <td>322.5</td>\n",
              "      <td>0.003225</td>\n",
              "    </tr>\n",
              "    <tr>\n",
              "      <th>Alabama</th>\n",
              "      <td>1</td>\n",
              "      <td>&lt; 1 year</td>\n",
              "      <td>1</td>\n",
              "      <td>Female</td>\n",
              "      <td>F</td>\n",
              "      <td>Black or African American</td>\n",
              "      <td>2054-5</td>\n",
              "      <td>2093</td>\n",
              "      <td>169339.0</td>\n",
              "      <td>1236.0</td>\n",
              "      <td>0.012360</td>\n",
              "    </tr>\n",
              "    <tr>\n",
              "      <th>Alabama</th>\n",
              "      <td>1</td>\n",
              "      <td>&lt; 1 year</td>\n",
              "      <td>1</td>\n",
              "      <td>Female</td>\n",
              "      <td>F</td>\n",
              "      <td>White</td>\n",
              "      <td>2106-3</td>\n",
              "      <td>2144</td>\n",
              "      <td>347921.0</td>\n",
              "      <td>616.2</td>\n",
              "      <td>0.006162</td>\n",
              "    </tr>\n",
              "    <tr>\n",
              "      <th>Alabama</th>\n",
              "      <td>1</td>\n",
              "      <td>&lt; 1 year</td>\n",
              "      <td>1</td>\n",
              "      <td>Male</td>\n",
              "      <td>M</td>\n",
              "      <td>Asian or Pacific Islander</td>\n",
              "      <td>A-PI</td>\n",
              "      <td>33</td>\n",
              "      <td>7366.0</td>\n",
              "      <td>448.0</td>\n",
              "      <td>0.004480</td>\n",
              "    </tr>\n",
              "    <tr>\n",
              "      <th>Alabama</th>\n",
              "      <td>1</td>\n",
              "      <td>&lt; 1 year</td>\n",
              "      <td>1</td>\n",
              "      <td>Male</td>\n",
              "      <td>M</td>\n",
              "      <td>Black or African American</td>\n",
              "      <td>2054-5</td>\n",
              "      <td>2732</td>\n",
              "      <td>173241.0</td>\n",
              "      <td>1577.0</td>\n",
              "      <td>0.015770</td>\n",
              "    </tr>\n",
              "  </tbody>\n",
              "</table>\n",
              "</div>\n",
              "      <button class=\"colab-df-convert\" onclick=\"convertToInteractive('df-7e8dfa91-7df9-4249-86c1-8b9cbfff051f')\"\n",
              "              title=\"Convert this dataframe to an interactive table.\"\n",
              "              style=\"display:none;\">\n",
              "        \n",
              "  <svg xmlns=\"http://www.w3.org/2000/svg\" height=\"24px\"viewBox=\"0 0 24 24\"\n",
              "       width=\"24px\">\n",
              "    <path d=\"M0 0h24v24H0V0z\" fill=\"none\"/>\n",
              "    <path d=\"M18.56 5.44l.94 2.06.94-2.06 2.06-.94-2.06-.94-.94-2.06-.94 2.06-2.06.94zm-11 1L8.5 8.5l.94-2.06 2.06-.94-2.06-.94L8.5 2.5l-.94 2.06-2.06.94zm10 10l.94 2.06.94-2.06 2.06-.94-2.06-.94-.94-2.06-.94 2.06-2.06.94z\"/><path d=\"M17.41 7.96l-1.37-1.37c-.4-.4-.92-.59-1.43-.59-.52 0-1.04.2-1.43.59L10.3 9.45l-7.72 7.72c-.78.78-.78 2.05 0 2.83L4 21.41c.39.39.9.59 1.41.59.51 0 1.02-.2 1.41-.59l7.78-7.78 2.81-2.81c.8-.78.8-2.07 0-2.86zM5.41 20L4 18.59l7.72-7.72 1.47 1.35L5.41 20z\"/>\n",
              "  </svg>\n",
              "      </button>\n",
              "      \n",
              "  <style>\n",
              "    .colab-df-container {\n",
              "      display:flex;\n",
              "      flex-wrap:wrap;\n",
              "      gap: 12px;\n",
              "    }\n",
              "\n",
              "    .colab-df-convert {\n",
              "      background-color: #E8F0FE;\n",
              "      border: none;\n",
              "      border-radius: 50%;\n",
              "      cursor: pointer;\n",
              "      display: none;\n",
              "      fill: #1967D2;\n",
              "      height: 32px;\n",
              "      padding: 0 0 0 0;\n",
              "      width: 32px;\n",
              "    }\n",
              "\n",
              "    .colab-df-convert:hover {\n",
              "      background-color: #E2EBFA;\n",
              "      box-shadow: 0px 1px 2px rgba(60, 64, 67, 0.3), 0px 1px 3px 1px rgba(60, 64, 67, 0.15);\n",
              "      fill: #174EA6;\n",
              "    }\n",
              "\n",
              "    [theme=dark] .colab-df-convert {\n",
              "      background-color: #3B4455;\n",
              "      fill: #D2E3FC;\n",
              "    }\n",
              "\n",
              "    [theme=dark] .colab-df-convert:hover {\n",
              "      background-color: #434B5C;\n",
              "      box-shadow: 0px 1px 3px 1px rgba(0, 0, 0, 0.15);\n",
              "      filter: drop-shadow(0px 1px 2px rgba(0, 0, 0, 0.3));\n",
              "      fill: #FFFFFF;\n",
              "    }\n",
              "  </style>\n",
              "\n",
              "      <script>\n",
              "        const buttonEl =\n",
              "          document.querySelector('#df-7e8dfa91-7df9-4249-86c1-8b9cbfff051f button.colab-df-convert');\n",
              "        buttonEl.style.display =\n",
              "          google.colab.kernel.accessAllowed ? 'block' : 'none';\n",
              "\n",
              "        async function convertToInteractive(key) {\n",
              "          const element = document.querySelector('#df-7e8dfa91-7df9-4249-86c1-8b9cbfff051f');\n",
              "          const dataTable =\n",
              "            await google.colab.kernel.invokeFunction('convertToInteractive',\n",
              "                                                     [key], {});\n",
              "          if (!dataTable) return;\n",
              "\n",
              "          const docLinkHtml = 'Like what you see? Visit the ' +\n",
              "            '<a target=\"_blank\" href=https://colab.research.google.com/notebooks/data_table.ipynb>data table notebook</a>'\n",
              "            + ' to learn more about interactive tables.';\n",
              "          element.innerHTML = '';\n",
              "          dataTable['output_type'] = 'display_data';\n",
              "          await google.colab.output.renderOutput(dataTable, element);\n",
              "          const docLink = document.createElement('div');\n",
              "          docLink.innerHTML = docLinkHtml;\n",
              "          element.appendChild(docLink);\n",
              "        }\n",
              "      </script>\n",
              "    </div>\n",
              "  </div>\n",
              "  "
            ],
            "text/plain": [
              "         State Code Ten-Year Age Groups  ... Crude Rate     ratio\n",
              "State                                    ...                     \n",
              "Alabama           1            < 1 year  ...      322.5  0.003225\n",
              "Alabama           1            < 1 year  ...     1236.0  0.012360\n",
              "Alabama           1            < 1 year  ...      616.2  0.006162\n",
              "Alabama           1            < 1 year  ...      448.0  0.004480\n",
              "Alabama           1            < 1 year  ...     1577.0  0.015770\n",
              "\n",
              "[5 rows x 11 columns]"
            ]
          },
          "metadata": {},
          "execution_count": 121
        }
      ]
    },
    {
      "cell_type": "markdown",
      "source": [
        "h."
      ],
      "metadata": {
        "id": "Q5QFCsu_E4HV"
      }
    },
    {
      "cell_type": "code",
      "source": [
        "cod[cod[\"Ten-Year Age Groups Code\"] == \"1\"]"
      ],
      "metadata": {
        "colab": {
          "base_uri": "https://localhost:8080/",
          "height": 455
        },
        "id": "n0_H55iEE5hh",
        "outputId": "4479e907-e58d-42e5-e5e2-2920a86e3188"
      },
      "execution_count": null,
      "outputs": [
        {
          "output_type": "execute_result",
          "data": {
            "text/html": [
              "\n",
              "  <div id=\"df-31afa6cb-73ff-4eb2-8e92-ced06fc68fa4\">\n",
              "    <div class=\"colab-df-container\">\n",
              "      <div>\n",
              "<style scoped>\n",
              "    .dataframe tbody tr th:only-of-type {\n",
              "        vertical-align: middle;\n",
              "    }\n",
              "\n",
              "    .dataframe tbody tr th {\n",
              "        vertical-align: top;\n",
              "    }\n",
              "\n",
              "    .dataframe thead th {\n",
              "        text-align: right;\n",
              "    }\n",
              "</style>\n",
              "<table border=\"1\" class=\"dataframe\">\n",
              "  <thead>\n",
              "    <tr style=\"text-align: right;\">\n",
              "      <th></th>\n",
              "      <th>State Code</th>\n",
              "      <th>Ten-Year Age Groups</th>\n",
              "      <th>Ten-Year Age Groups Code</th>\n",
              "      <th>Gender</th>\n",
              "      <th>Gender Code</th>\n",
              "      <th>Race</th>\n",
              "      <th>Race Code</th>\n",
              "      <th>Deaths</th>\n",
              "      <th>Population</th>\n",
              "      <th>Crude Rate</th>\n",
              "      <th>ratio</th>\n",
              "    </tr>\n",
              "    <tr>\n",
              "      <th>State</th>\n",
              "      <th></th>\n",
              "      <th></th>\n",
              "      <th></th>\n",
              "      <th></th>\n",
              "      <th></th>\n",
              "      <th></th>\n",
              "      <th></th>\n",
              "      <th></th>\n",
              "      <th></th>\n",
              "      <th></th>\n",
              "      <th></th>\n",
              "    </tr>\n",
              "  </thead>\n",
              "  <tbody>\n",
              "    <tr>\n",
              "      <th>Alabama</th>\n",
              "      <td>1</td>\n",
              "      <td>&lt; 1 year</td>\n",
              "      <td>1</td>\n",
              "      <td>Female</td>\n",
              "      <td>F</td>\n",
              "      <td>Asian or Pacific Islander</td>\n",
              "      <td>A-PI</td>\n",
              "      <td>24</td>\n",
              "      <td>7443.0</td>\n",
              "      <td>322.5</td>\n",
              "      <td>0.003225</td>\n",
              "    </tr>\n",
              "    <tr>\n",
              "      <th>Alabama</th>\n",
              "      <td>1</td>\n",
              "      <td>&lt; 1 year</td>\n",
              "      <td>1</td>\n",
              "      <td>Female</td>\n",
              "      <td>F</td>\n",
              "      <td>Black or African American</td>\n",
              "      <td>2054-5</td>\n",
              "      <td>2093</td>\n",
              "      <td>169339.0</td>\n",
              "      <td>1236.0</td>\n",
              "      <td>0.012360</td>\n",
              "    </tr>\n",
              "    <tr>\n",
              "      <th>Alabama</th>\n",
              "      <td>1</td>\n",
              "      <td>&lt; 1 year</td>\n",
              "      <td>1</td>\n",
              "      <td>Female</td>\n",
              "      <td>F</td>\n",
              "      <td>White</td>\n",
              "      <td>2106-3</td>\n",
              "      <td>2144</td>\n",
              "      <td>347921.0</td>\n",
              "      <td>616.2</td>\n",
              "      <td>0.006162</td>\n",
              "    </tr>\n",
              "    <tr>\n",
              "      <th>Alabama</th>\n",
              "      <td>1</td>\n",
              "      <td>&lt; 1 year</td>\n",
              "      <td>1</td>\n",
              "      <td>Male</td>\n",
              "      <td>M</td>\n",
              "      <td>Asian or Pacific Islander</td>\n",
              "      <td>A-PI</td>\n",
              "      <td>33</td>\n",
              "      <td>7366.0</td>\n",
              "      <td>448.0</td>\n",
              "      <td>0.004480</td>\n",
              "    </tr>\n",
              "    <tr>\n",
              "      <th>Alabama</th>\n",
              "      <td>1</td>\n",
              "      <td>&lt; 1 year</td>\n",
              "      <td>1</td>\n",
              "      <td>Male</td>\n",
              "      <td>M</td>\n",
              "      <td>Black or African American</td>\n",
              "      <td>2054-5</td>\n",
              "      <td>2732</td>\n",
              "      <td>173241.0</td>\n",
              "      <td>1577.0</td>\n",
              "      <td>0.015770</td>\n",
              "    </tr>\n",
              "    <tr>\n",
              "      <th>...</th>\n",
              "      <td>...</td>\n",
              "      <td>...</td>\n",
              "      <td>...</td>\n",
              "      <td>...</td>\n",
              "      <td>...</td>\n",
              "      <td>...</td>\n",
              "      <td>...</td>\n",
              "      <td>...</td>\n",
              "      <td>...</td>\n",
              "      <td>...</td>\n",
              "      <td>...</td>\n",
              "    </tr>\n",
              "    <tr>\n",
              "      <th>Wisconsin</th>\n",
              "      <td>55</td>\n",
              "      <td>&lt; 1 year</td>\n",
              "      <td>1</td>\n",
              "      <td>Male</td>\n",
              "      <td>M</td>\n",
              "      <td>Black or African American</td>\n",
              "      <td>2054-5</td>\n",
              "      <td>1109</td>\n",
              "      <td>69810.0</td>\n",
              "      <td>1588.6</td>\n",
              "      <td>0.015886</td>\n",
              "    </tr>\n",
              "    <tr>\n",
              "      <th>Wisconsin</th>\n",
              "      <td>55</td>\n",
              "      <td>&lt; 1 year</td>\n",
              "      <td>1</td>\n",
              "      <td>Male</td>\n",
              "      <td>M</td>\n",
              "      <td>White</td>\n",
              "      <td>2106-3</td>\n",
              "      <td>3029</td>\n",
              "      <td>529269.0</td>\n",
              "      <td>572.3</td>\n",
              "      <td>0.005723</td>\n",
              "    </tr>\n",
              "    <tr>\n",
              "      <th>Wyoming</th>\n",
              "      <td>56</td>\n",
              "      <td>&lt; 1 year</td>\n",
              "      <td>1</td>\n",
              "      <td>Female</td>\n",
              "      <td>F</td>\n",
              "      <td>White</td>\n",
              "      <td>2106-3</td>\n",
              "      <td>327</td>\n",
              "      <td>57791.0</td>\n",
              "      <td>565.8</td>\n",
              "      <td>0.005658</td>\n",
              "    </tr>\n",
              "    <tr>\n",
              "      <th>Wyoming</th>\n",
              "      <td>56</td>\n",
              "      <td>&lt; 1 year</td>\n",
              "      <td>1</td>\n",
              "      <td>Male</td>\n",
              "      <td>M</td>\n",
              "      <td>American Indian or Alaska Native</td>\n",
              "      <td>1002-5</td>\n",
              "      <td>41</td>\n",
              "      <td>3366.0</td>\n",
              "      <td>1218.1</td>\n",
              "      <td>0.012181</td>\n",
              "    </tr>\n",
              "    <tr>\n",
              "      <th>Wyoming</th>\n",
              "      <td>56</td>\n",
              "      <td>&lt; 1 year</td>\n",
              "      <td>1</td>\n",
              "      <td>Male</td>\n",
              "      <td>M</td>\n",
              "      <td>White</td>\n",
              "      <td>2106-3</td>\n",
              "      <td>415</td>\n",
              "      <td>60874.0</td>\n",
              "      <td>681.7</td>\n",
              "      <td>0.006817</td>\n",
              "    </tr>\n",
              "  </tbody>\n",
              "</table>\n",
              "<p>324 rows × 11 columns</p>\n",
              "</div>\n",
              "      <button class=\"colab-df-convert\" onclick=\"convertToInteractive('df-31afa6cb-73ff-4eb2-8e92-ced06fc68fa4')\"\n",
              "              title=\"Convert this dataframe to an interactive table.\"\n",
              "              style=\"display:none;\">\n",
              "        \n",
              "  <svg xmlns=\"http://www.w3.org/2000/svg\" height=\"24px\"viewBox=\"0 0 24 24\"\n",
              "       width=\"24px\">\n",
              "    <path d=\"M0 0h24v24H0V0z\" fill=\"none\"/>\n",
              "    <path d=\"M18.56 5.44l.94 2.06.94-2.06 2.06-.94-2.06-.94-.94-2.06-.94 2.06-2.06.94zm-11 1L8.5 8.5l.94-2.06 2.06-.94-2.06-.94L8.5 2.5l-.94 2.06-2.06.94zm10 10l.94 2.06.94-2.06 2.06-.94-2.06-.94-.94-2.06-.94 2.06-2.06.94z\"/><path d=\"M17.41 7.96l-1.37-1.37c-.4-.4-.92-.59-1.43-.59-.52 0-1.04.2-1.43.59L10.3 9.45l-7.72 7.72c-.78.78-.78 2.05 0 2.83L4 21.41c.39.39.9.59 1.41.59.51 0 1.02-.2 1.41-.59l7.78-7.78 2.81-2.81c.8-.78.8-2.07 0-2.86zM5.41 20L4 18.59l7.72-7.72 1.47 1.35L5.41 20z\"/>\n",
              "  </svg>\n",
              "      </button>\n",
              "      \n",
              "  <style>\n",
              "    .colab-df-container {\n",
              "      display:flex;\n",
              "      flex-wrap:wrap;\n",
              "      gap: 12px;\n",
              "    }\n",
              "\n",
              "    .colab-df-convert {\n",
              "      background-color: #E8F0FE;\n",
              "      border: none;\n",
              "      border-radius: 50%;\n",
              "      cursor: pointer;\n",
              "      display: none;\n",
              "      fill: #1967D2;\n",
              "      height: 32px;\n",
              "      padding: 0 0 0 0;\n",
              "      width: 32px;\n",
              "    }\n",
              "\n",
              "    .colab-df-convert:hover {\n",
              "      background-color: #E2EBFA;\n",
              "      box-shadow: 0px 1px 2px rgba(60, 64, 67, 0.3), 0px 1px 3px 1px rgba(60, 64, 67, 0.15);\n",
              "      fill: #174EA6;\n",
              "    }\n",
              "\n",
              "    [theme=dark] .colab-df-convert {\n",
              "      background-color: #3B4455;\n",
              "      fill: #D2E3FC;\n",
              "    }\n",
              "\n",
              "    [theme=dark] .colab-df-convert:hover {\n",
              "      background-color: #434B5C;\n",
              "      box-shadow: 0px 1px 3px 1px rgba(0, 0, 0, 0.15);\n",
              "      filter: drop-shadow(0px 1px 2px rgba(0, 0, 0, 0.3));\n",
              "      fill: #FFFFFF;\n",
              "    }\n",
              "  </style>\n",
              "\n",
              "      <script>\n",
              "        const buttonEl =\n",
              "          document.querySelector('#df-31afa6cb-73ff-4eb2-8e92-ced06fc68fa4 button.colab-df-convert');\n",
              "        buttonEl.style.display =\n",
              "          google.colab.kernel.accessAllowed ? 'block' : 'none';\n",
              "\n",
              "        async function convertToInteractive(key) {\n",
              "          const element = document.querySelector('#df-31afa6cb-73ff-4eb2-8e92-ced06fc68fa4');\n",
              "          const dataTable =\n",
              "            await google.colab.kernel.invokeFunction('convertToInteractive',\n",
              "                                                     [key], {});\n",
              "          if (!dataTable) return;\n",
              "\n",
              "          const docLinkHtml = 'Like what you see? Visit the ' +\n",
              "            '<a target=\"_blank\" href=https://colab.research.google.com/notebooks/data_table.ipynb>data table notebook</a>'\n",
              "            + ' to learn more about interactive tables.';\n",
              "          element.innerHTML = '';\n",
              "          dataTable['output_type'] = 'display_data';\n",
              "          await google.colab.output.renderOutput(dataTable, element);\n",
              "          const docLink = document.createElement('div');\n",
              "          docLink.innerHTML = docLinkHtml;\n",
              "          element.appendChild(docLink);\n",
              "        }\n",
              "      </script>\n",
              "    </div>\n",
              "  </div>\n",
              "  "
            ],
            "text/plain": [
              "           State Code Ten-Year Age Groups  ... Crude Rate     ratio\n",
              "State                                      ...                     \n",
              "Alabama             1            < 1 year  ...      322.5  0.003225\n",
              "Alabama             1            < 1 year  ...     1236.0  0.012360\n",
              "Alabama             1            < 1 year  ...      616.2  0.006162\n",
              "Alabama             1            < 1 year  ...      448.0  0.004480\n",
              "Alabama             1            < 1 year  ...     1577.0  0.015770\n",
              "...               ...                 ...  ...        ...       ...\n",
              "Wisconsin          55            < 1 year  ...     1588.6  0.015886\n",
              "Wisconsin          55            < 1 year  ...      572.3  0.005723\n",
              "Wyoming            56            < 1 year  ...      565.8  0.005658\n",
              "Wyoming            56            < 1 year  ...     1218.1  0.012181\n",
              "Wyoming            56            < 1 year  ...      681.7  0.006817\n",
              "\n",
              "[324 rows x 11 columns]"
            ]
          },
          "metadata": {},
          "execution_count": 124
        }
      ]
    },
    {
      "cell_type": "markdown",
      "source": [
        "i."
      ],
      "metadata": {
        "id": "drXjMz4tGLRW"
      }
    },
    {
      "cell_type": "code",
      "source": [
        "cod[cod[\"Ten-Year Age Groups Code\"] == \"1\"].sort_values(by=['Crude Rate'], ascending=False)"
      ],
      "metadata": {
        "colab": {
          "base_uri": "https://localhost:8080/",
          "height": 455
        },
        "id": "DZngl19QGMEG",
        "outputId": "bc9c7152-96a3-4e6b-8de2-ed1091062791"
      },
      "execution_count": null,
      "outputs": [
        {
          "output_type": "execute_result",
          "data": {
            "text/html": [
              "\n",
              "  <div id=\"df-15ad23e1-174c-4f35-a3d1-8999fe9e5a51\">\n",
              "    <div class=\"colab-df-container\">\n",
              "      <div>\n",
              "<style scoped>\n",
              "    .dataframe tbody tr th:only-of-type {\n",
              "        vertical-align: middle;\n",
              "    }\n",
              "\n",
              "    .dataframe tbody tr th {\n",
              "        vertical-align: top;\n",
              "    }\n",
              "\n",
              "    .dataframe thead th {\n",
              "        text-align: right;\n",
              "    }\n",
              "</style>\n",
              "<table border=\"1\" class=\"dataframe\">\n",
              "  <thead>\n",
              "    <tr style=\"text-align: right;\">\n",
              "      <th></th>\n",
              "      <th>State Code</th>\n",
              "      <th>Ten-Year Age Groups</th>\n",
              "      <th>Ten-Year Age Groups Code</th>\n",
              "      <th>Gender</th>\n",
              "      <th>Gender Code</th>\n",
              "      <th>Race</th>\n",
              "      <th>Race Code</th>\n",
              "      <th>Deaths</th>\n",
              "      <th>Population</th>\n",
              "      <th>Crude Rate</th>\n",
              "      <th>ratio</th>\n",
              "    </tr>\n",
              "    <tr>\n",
              "      <th>State</th>\n",
              "      <th></th>\n",
              "      <th></th>\n",
              "      <th></th>\n",
              "      <th></th>\n",
              "      <th></th>\n",
              "      <th></th>\n",
              "      <th></th>\n",
              "      <th></th>\n",
              "      <th></th>\n",
              "      <th></th>\n",
              "      <th></th>\n",
              "    </tr>\n",
              "  </thead>\n",
              "  <tbody>\n",
              "    <tr>\n",
              "      <th>District of Columbia</th>\n",
              "      <td>11</td>\n",
              "      <td>&lt; 1 year</td>\n",
              "      <td>1</td>\n",
              "      <td>Male</td>\n",
              "      <td>M</td>\n",
              "      <td>Black or African American</td>\n",
              "      <td>2054-5</td>\n",
              "      <td>708</td>\n",
              "      <td>40167.0</td>\n",
              "      <td>1762.6</td>\n",
              "      <td>0.017626</td>\n",
              "    </tr>\n",
              "    <tr>\n",
              "      <th>Ohio</th>\n",
              "      <td>39</td>\n",
              "      <td>&lt; 1 year</td>\n",
              "      <td>1</td>\n",
              "      <td>Male</td>\n",
              "      <td>M</td>\n",
              "      <td>Black or African American</td>\n",
              "      <td>2054-5</td>\n",
              "      <td>3802</td>\n",
              "      <td>232495.0</td>\n",
              "      <td>1635.3</td>\n",
              "      <td>0.016353</td>\n",
              "    </tr>\n",
              "    <tr>\n",
              "      <th>Michigan</th>\n",
              "      <td>26</td>\n",
              "      <td>&lt; 1 year</td>\n",
              "      <td>1</td>\n",
              "      <td>Male</td>\n",
              "      <td>M</td>\n",
              "      <td>Black or African American</td>\n",
              "      <td>2054-5</td>\n",
              "      <td>3509</td>\n",
              "      <td>215828.0</td>\n",
              "      <td>1625.8</td>\n",
              "      <td>0.016258</td>\n",
              "    </tr>\n",
              "    <tr>\n",
              "      <th>South Dakota</th>\n",
              "      <td>46</td>\n",
              "      <td>&lt; 1 year</td>\n",
              "      <td>1</td>\n",
              "      <td>Male</td>\n",
              "      <td>M</td>\n",
              "      <td>American Indian or Alaska Native</td>\n",
              "      <td>1002-5</td>\n",
              "      <td>280</td>\n",
              "      <td>17309.0</td>\n",
              "      <td>1617.7</td>\n",
              "      <td>0.016177</td>\n",
              "    </tr>\n",
              "    <tr>\n",
              "      <th>Illinois</th>\n",
              "      <td>17</td>\n",
              "      <td>&lt; 1 year</td>\n",
              "      <td>1</td>\n",
              "      <td>Male</td>\n",
              "      <td>M</td>\n",
              "      <td>Black or African American</td>\n",
              "      <td>2054-5</td>\n",
              "      <td>4453</td>\n",
              "      <td>275867.0</td>\n",
              "      <td>1614.2</td>\n",
              "      <td>0.016142</td>\n",
              "    </tr>\n",
              "    <tr>\n",
              "      <th>...</th>\n",
              "      <td>...</td>\n",
              "      <td>...</td>\n",
              "      <td>...</td>\n",
              "      <td>...</td>\n",
              "      <td>...</td>\n",
              "      <td>...</td>\n",
              "      <td>...</td>\n",
              "      <td>...</td>\n",
              "      <td>...</td>\n",
              "      <td>...</td>\n",
              "      <td>...</td>\n",
              "    </tr>\n",
              "    <tr>\n",
              "      <th>California</th>\n",
              "      <td>6</td>\n",
              "      <td>&lt; 1 year</td>\n",
              "      <td>1</td>\n",
              "      <td>Female</td>\n",
              "      <td>F</td>\n",
              "      <td>American Indian or Alaska Native</td>\n",
              "      <td>1002-5</td>\n",
              "      <td>146</td>\n",
              "      <td>86884.0</td>\n",
              "      <td>168.0</td>\n",
              "      <td>0.001680</td>\n",
              "    </tr>\n",
              "    <tr>\n",
              "      <th>Florida</th>\n",
              "      <td>12</td>\n",
              "      <td>&lt; 1 year</td>\n",
              "      <td>1</td>\n",
              "      <td>Male</td>\n",
              "      <td>M</td>\n",
              "      <td>American Indian or Alaska Native</td>\n",
              "      <td>1002-5</td>\n",
              "      <td>24</td>\n",
              "      <td>14482.0</td>\n",
              "      <td>165.7</td>\n",
              "      <td>0.001657</td>\n",
              "    </tr>\n",
              "    <tr>\n",
              "      <th>New York</th>\n",
              "      <td>36</td>\n",
              "      <td>&lt; 1 year</td>\n",
              "      <td>1</td>\n",
              "      <td>Female</td>\n",
              "      <td>F</td>\n",
              "      <td>American Indian or Alaska Native</td>\n",
              "      <td>1002-5</td>\n",
              "      <td>33</td>\n",
              "      <td>23064.0</td>\n",
              "      <td>143.1</td>\n",
              "      <td>0.001431</td>\n",
              "    </tr>\n",
              "    <tr>\n",
              "      <th>Texas</th>\n",
              "      <td>48</td>\n",
              "      <td>&lt; 1 year</td>\n",
              "      <td>1</td>\n",
              "      <td>Male</td>\n",
              "      <td>M</td>\n",
              "      <td>American Indian or Alaska Native</td>\n",
              "      <td>1002-5</td>\n",
              "      <td>31</td>\n",
              "      <td>33252.0</td>\n",
              "      <td>93.2</td>\n",
              "      <td>0.000932</td>\n",
              "    </tr>\n",
              "    <tr>\n",
              "      <th>Texas</th>\n",
              "      <td>48</td>\n",
              "      <td>&lt; 1 year</td>\n",
              "      <td>1</td>\n",
              "      <td>Female</td>\n",
              "      <td>F</td>\n",
              "      <td>American Indian or Alaska Native</td>\n",
              "      <td>1002-5</td>\n",
              "      <td>26</td>\n",
              "      <td>32185.0</td>\n",
              "      <td>80.8</td>\n",
              "      <td>0.000808</td>\n",
              "    </tr>\n",
              "  </tbody>\n",
              "</table>\n",
              "<p>324 rows × 11 columns</p>\n",
              "</div>\n",
              "      <button class=\"colab-df-convert\" onclick=\"convertToInteractive('df-15ad23e1-174c-4f35-a3d1-8999fe9e5a51')\"\n",
              "              title=\"Convert this dataframe to an interactive table.\"\n",
              "              style=\"display:none;\">\n",
              "        \n",
              "  <svg xmlns=\"http://www.w3.org/2000/svg\" height=\"24px\"viewBox=\"0 0 24 24\"\n",
              "       width=\"24px\">\n",
              "    <path d=\"M0 0h24v24H0V0z\" fill=\"none\"/>\n",
              "    <path d=\"M18.56 5.44l.94 2.06.94-2.06 2.06-.94-2.06-.94-.94-2.06-.94 2.06-2.06.94zm-11 1L8.5 8.5l.94-2.06 2.06-.94-2.06-.94L8.5 2.5l-.94 2.06-2.06.94zm10 10l.94 2.06.94-2.06 2.06-.94-2.06-.94-.94-2.06-.94 2.06-2.06.94z\"/><path d=\"M17.41 7.96l-1.37-1.37c-.4-.4-.92-.59-1.43-.59-.52 0-1.04.2-1.43.59L10.3 9.45l-7.72 7.72c-.78.78-.78 2.05 0 2.83L4 21.41c.39.39.9.59 1.41.59.51 0 1.02-.2 1.41-.59l7.78-7.78 2.81-2.81c.8-.78.8-2.07 0-2.86zM5.41 20L4 18.59l7.72-7.72 1.47 1.35L5.41 20z\"/>\n",
              "  </svg>\n",
              "      </button>\n",
              "      \n",
              "  <style>\n",
              "    .colab-df-container {\n",
              "      display:flex;\n",
              "      flex-wrap:wrap;\n",
              "      gap: 12px;\n",
              "    }\n",
              "\n",
              "    .colab-df-convert {\n",
              "      background-color: #E8F0FE;\n",
              "      border: none;\n",
              "      border-radius: 50%;\n",
              "      cursor: pointer;\n",
              "      display: none;\n",
              "      fill: #1967D2;\n",
              "      height: 32px;\n",
              "      padding: 0 0 0 0;\n",
              "      width: 32px;\n",
              "    }\n",
              "\n",
              "    .colab-df-convert:hover {\n",
              "      background-color: #E2EBFA;\n",
              "      box-shadow: 0px 1px 2px rgba(60, 64, 67, 0.3), 0px 1px 3px 1px rgba(60, 64, 67, 0.15);\n",
              "      fill: #174EA6;\n",
              "    }\n",
              "\n",
              "    [theme=dark] .colab-df-convert {\n",
              "      background-color: #3B4455;\n",
              "      fill: #D2E3FC;\n",
              "    }\n",
              "\n",
              "    [theme=dark] .colab-df-convert:hover {\n",
              "      background-color: #434B5C;\n",
              "      box-shadow: 0px 1px 3px 1px rgba(0, 0, 0, 0.15);\n",
              "      filter: drop-shadow(0px 1px 2px rgba(0, 0, 0, 0.3));\n",
              "      fill: #FFFFFF;\n",
              "    }\n",
              "  </style>\n",
              "\n",
              "      <script>\n",
              "        const buttonEl =\n",
              "          document.querySelector('#df-15ad23e1-174c-4f35-a3d1-8999fe9e5a51 button.colab-df-convert');\n",
              "        buttonEl.style.display =\n",
              "          google.colab.kernel.accessAllowed ? 'block' : 'none';\n",
              "\n",
              "        async function convertToInteractive(key) {\n",
              "          const element = document.querySelector('#df-15ad23e1-174c-4f35-a3d1-8999fe9e5a51');\n",
              "          const dataTable =\n",
              "            await google.colab.kernel.invokeFunction('convertToInteractive',\n",
              "                                                     [key], {});\n",
              "          if (!dataTable) return;\n",
              "\n",
              "          const docLinkHtml = 'Like what you see? Visit the ' +\n",
              "            '<a target=\"_blank\" href=https://colab.research.google.com/notebooks/data_table.ipynb>data table notebook</a>'\n",
              "            + ' to learn more about interactive tables.';\n",
              "          element.innerHTML = '';\n",
              "          dataTable['output_type'] = 'display_data';\n",
              "          await google.colab.output.renderOutput(dataTable, element);\n",
              "          const docLink = document.createElement('div');\n",
              "          docLink.innerHTML = docLinkHtml;\n",
              "          element.appendChild(docLink);\n",
              "        }\n",
              "      </script>\n",
              "    </div>\n",
              "  </div>\n",
              "  "
            ],
            "text/plain": [
              "                      State Code Ten-Year Age Groups  ... Crude Rate     ratio\n",
              "State                                                 ...                     \n",
              "District of Columbia          11            < 1 year  ...     1762.6  0.017626\n",
              "Ohio                          39            < 1 year  ...     1635.3  0.016353\n",
              "Michigan                      26            < 1 year  ...     1625.8  0.016258\n",
              "South Dakota                  46            < 1 year  ...     1617.7  0.016177\n",
              "Illinois                      17            < 1 year  ...     1614.2  0.016142\n",
              "...                          ...                 ...  ...        ...       ...\n",
              "California                     6            < 1 year  ...      168.0  0.001680\n",
              "Florida                       12            < 1 year  ...      165.7  0.001657\n",
              "New York                      36            < 1 year  ...      143.1  0.001431\n",
              "Texas                         48            < 1 year  ...       93.2  0.000932\n",
              "Texas                         48            < 1 year  ...       80.8  0.000808\n",
              "\n",
              "[324 rows x 11 columns]"
            ]
          },
          "metadata": {},
          "execution_count": 126
        }
      ]
    }
  ]
}